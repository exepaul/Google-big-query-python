{
 "cells": [
  {
   "cell_type": "code",
   "execution_count": null,
   "metadata": {
    "collapsed": true
   },
   "outputs": [],
   "source": [
    "from google.cloud import bigquery\n",
    "import os\n",
    "os.environ[\"GOOGLE_APPLICATION_CREDENTIALS\"]=\"/Users/exepaul/Desktop/data_pre.json\""
   ]
  },
  {
   "cell_type": "code",
   "execution_count": null,
   "metadata": {
    "collapsed": true
   },
   "outputs": [],
   "source": [
    "# Instantiates a client\n",
    "# bigquery_client = bigquery.Client()\n",
    "bigquery_client = bigquery.Client.from_service_account_json('/Users/exepaul/Desktop/data_pre.json')"
   ]
  },
  {
   "cell_type": "code",
   "execution_count": null,
   "metadata": {
    "collapsed": true
   },
   "outputs": [],
   "source": [
    "# The name for the new dataset\n",
    "dataset_id = 'dataset_name'"
   ]
  },
  {
   "cell_type": "code",
   "execution_count": null,
   "metadata": {
    "collapsed": true
   },
   "outputs": [],
   "source": [
    "# Prepares a reference to the new dataset\n",
    "\n",
    "dataset_ref = bigquery_client.dataset(dataset_id)\n",
    "dataset = bigquery.Dataset(dataset_ref)\n",
    "\n",
    "# datasets = bigquery_client.list_datasets()\n",
    "# print(list(datasets))\n",
    "\n",
    "datasets = list(bigquery_client.list_datasets())\n",
    "project = bigquery_client.project\n",
    "if datasets:\n",
    "    print('Datasets in project {}:'.format(project))\n",
    "    for dataset in datasets:  # API request(s)\n",
    "        print('\\t{}'.format(dataset.dataset_id))\n",
    "else:\n",
    "    print('{} project does not contain any datasets.'.format(project))\n",
    "# Creates the new dataset"
   ]
  },
  {
   "cell_type": "code",
   "execution_count": null,
   "metadata": {
    "collapsed": true
   },
   "outputs": [],
   "source": [
    "client=bigquery_client\n",
    "dataset_ref = client.dataset(dataset_id)\n",
    "dataset = client.get_dataset(dataset_ref)  # API request\n",
    "print('Dataset ID: '.format(dataset_id))\n",
    "print('Description: '.format(dataset.description))\n",
    "print('Labels:')\n",
    "for label, value in dataset.labels.items():\n",
    "    print('\\t{}: {}'.format(label, value))\n",
    "# View tables in dataset\n",
    "print('Tables:')\n",
    "tables = list(client.list_tables(dataset_ref))  # API request(s)\n",
    "if tables:\n",
    "    for table in tables:\n",
    "        print('\\t{}'.format(table.table_id))\n",
    "else:\n",
    "    print('\\tThis dataset does not contain any tables.')"
   ]
  },
  {
   "cell_type": "code",
   "execution_count": null,
   "metadata": {
    "collapsed": true
   },
   "outputs": [],
   "source": [
    "# dataset_ref = client.dataset(dataset_id)\n",
    "# dataset = client.get_dataset(dataset_ref)  # API request\n",
    "# # View dataset properties\n",
    "# print('Dataset ID: '.format(dataset_id))\n",
    "# print('Description: '.format(dataset.description))\n",
    "# print('Labels:')\n",
    "# for label, value in dataset.labels.items():\n",
    "#     print('\\t{}: {}'.format(label, value))\n",
    "#     # View tables in dataset\n",
    "#     print('Tables:')\n",
    "#     tables = list(client.list_tables(dataset_ref))  # API request(s)\n",
    "#     if tables:\n",
    "#         for table in tables:\n",
    "#             print('\\t{}'.format(table.table_id))\n",
    "#     else:\n",
    "#         print('\\tThis dataset does not contain any tables.')\n",
    "\n",
    "\n",
    "\n",
    "## Fetching Data\n",
    "\n",
    "# Perform a query.\n",
    "QUERY = (\n",
    "    'SELECT * FROM `data_base name` '\n",
    "    )\n",
    "query_job = client.query(QUERY)  # API request\n",
    "rows = query_job.result()  # Waits for query to finish\n",
    "\n",
    "print(list(rows))"
   ]
  },
  {
   "cell_type": "code",
   "execution_count": null,
   "metadata": {
    "collapsed": true
   },
   "outputs": [],
   "source": []
  }
 ],
 "metadata": {
  "kernelspec": {
   "display_name": "Python [anaconda]",
   "language": "python",
   "name": "Python [anaconda]"
  },
  "language_info": {
   "codemirror_mode": {
    "name": "ipython",
    "version": 3
   },
   "file_extension": ".py",
   "mimetype": "text/x-python",
   "name": "python",
   "nbconvert_exporter": "python",
   "pygments_lexer": "ipython3",
   "version": "3.5.4"
  }
 },
 "nbformat": 4,
 "nbformat_minor": 2
}
